{
 "cells": [
  {
   "cell_type": "code",
<<<<<<< HEAD
   "execution_count": 48,
   "metadata": {},
   "outputs": [],
   "source": [
    "import math\n",
    "import numpy as np"
=======
   "execution_count": 1,
   "metadata": {},
   "outputs": [],
   "source": [
    "import math"
>>>>>>> a167f8fa95934a02e7960d7072fdedb69f2a2486
   ]
  },
  {
   "cell_type": "code",
<<<<<<< HEAD
   "execution_count": 324,
=======
   "execution_count": 4,
>>>>>>> a167f8fa95934a02e7960d7072fdedb69f2a2486
   "metadata": {},
   "outputs": [],
   "source": [
    "entrada = {\n",
    "    \"tamanho_populacao\" : 10,\n",
    "    \"ponto1\" : [1,2,3],\n",
    "    \"ponto2\" : [4,5,6],\n",
    "    \"prob_cruzamento\" : 0.7,\n",
<<<<<<< HEAD
    "    \"prob_mutacao\" : 0.3,\n",
    "    \"functions\" : ['+','-','*','/','log','sin','cos','sqrt', '^'],\n",
    "    \"functions_prob\" : [0.15,0.15,0.25,0.01,0.08, 0.15,0.15,0.05, 0.01]\n",
=======
    "    \"prob_mutacao\" : 0.3\n",
>>>>>>> a167f8fa95934a02e7960d7072fdedb69f2a2486
    "}"
   ]
  },
  {
   "cell_type": "code",
<<<<<<< HEAD
   "execution_count": 5,
   "metadata": {},
   "outputs": [
    {
     "ename": "IndentationError",
     "evalue": "expected an indented block (<ipython-input-5-9c5dd15f516a>, line 30)",
     "output_type": "error",
     "traceback": [
      "\u001b[1;36m  File \u001b[1;32m\"<ipython-input-5-9c5dd15f516a>\"\u001b[1;36m, line \u001b[1;32m30\u001b[0m\n\u001b[1;33m    ramped_half_and_half(entrada[\"tamanho_populacao\"], 7)\u001b[0m\n\u001b[1;37m                                                         ^\u001b[0m\n\u001b[1;31mIndentationError\u001b[0m\u001b[1;31m:\u001b[0m expected an indented block\n"
     ]
=======
   "execution_count": 14,
   "metadata": {},
   "outputs": [
    {
     "name": "stdout",
     "output_type": "stream",
     "text": [
      "10 7\n"
     ]
    },
    {
     "data": {
      "text/plain": [
       "(1, 4)"
      ]
     },
     "execution_count": 14,
     "metadata": {},
     "output_type": "execute_result"
>>>>>>> a167f8fa95934a02e7960d7072fdedb69f2a2486
    }
   ],
   "source": [
    "def ramped_half_and_half(population_size, max_size):\n",
    "    \n",
    "    #Calculating number of subjects with which size of trees\n",
    "    trees_in_layers = int(population_size/(max_size - 1))\n",
    "    trees_rest = int(population_size%(max_size - 1) - 1)\n",
    "    trees_in_last_layer = trees_in_layers + trees_rest\n",
    "    \n",
    "    #Creating population\n",
    "    population = []\n",
    "    #for i in range(2, max_size):\n",
    "        \n",
    "    \n",
    "    return (trees_in_layers, trees_in_last_layer)\n",
    "\n",
<<<<<<< HEAD
    "'''\n",
    "!!!!!!!!!!!!!!!!!!!!!!!!!!!!!!!!!!!!!!!!!!!!!!!!!!!!!!!!!!!!!!!!!!!!!!!!!!!!!!!\n",
    "        np.random.seed(self.seed)\n",
    "        np.random.shuffle(variable_values)\n",
    "!!!!!!!!!!!!!!!!!!!!!!!!!!!!!!!!!!!!!!!!!!!!!!!!!!!!!!!!!!!!!!!!!!!!!!!!!!!!!!!\n",
    "'''\n",
=======
>>>>>>> a167f8fa95934a02e7960d7072fdedb69f2a2486
    "class subject_tree():\n",
    "    \n",
    "    #index sum's on random seed so trees with same number\n",
    "    #of layers don't are iniceiated in the same way \n",
<<<<<<< HEAD
    "    def __init__(self, num_layers, random_seed, index):\n",
=======
    "    def __init__(num_layers, random_seed, index)\n",
>>>>>>> a167f8fa95934a02e7960d7072fdedb69f2a2486
    "        self.num_layers = num_layers\n",
    "        self.random_seed = random_seed + index\n",
    "        self.root = node()\n",
    "        for i in range(num_layers):\n",
    "        \n",
    "    \n",
<<<<<<< HEAD
    "\n",
=======
    "class node():\n",
    "    def \n",
>>>>>>> a167f8fa95934a02e7960d7072fdedb69f2a2486
    "    \n",
    "    \n",
    "\n",
    "ramped_half_and_half(entrada[\"tamanho_populacao\"], 7)"
   ]
  },
  {
   "cell_type": "code",
<<<<<<< HEAD
   "execution_count": 201,
   "metadata": {},
   "outputs": [],
   "source": [
    "class SubjectTree():\n",
    "    variable_counter = 0\n",
    "    \n",
    "    def __init__(self, size):\n",
    "        SubjectTree.variable_counter = 0\n",
    "        self.root = Node(size)\n",
    "        \n",
    "    def getValues(self, variable_values):\n",
    "        return self.root.getInner(variable_values)\n",
    "        \n",
    "\n",
    "class Node(SubjectTree):\n",
    "    def __init__(self, num_layer):        \n",
    "        #Control variable\n",
    "        self.variable_number = SubjectTree.variable_counter\n",
    "        tree.variable_counter += 1\n",
    "        \n",
    "        #Leaf\n",
    "        if num_layer <= 0:\n",
    "            self.left_node = None\n",
    "            self.right_node = None\n",
    "        #InnerNode\n",
    "        else:\n",
    "            self.left_node = node(num_layer - 1)\n",
    "            self.right_node = node(num_layer - 1)\n",
    "\n",
    "    def getInner(self, variable_values):\n",
    "        variable_position = self.variable_number % len(variable_values)\n",
    "        if self.left_node is not None:\n",
    "            self.left_node.getInner(variable_values)\n",
    "        if self.right_node is not None:\n",
    "            self.right_node.getInner(variable_values)\n",
    "        print(variable_values[variable_position])\n",
    "        "
   ]
  },
  {
   "cell_type": "code",
   "execution_count": 202,
   "metadata": {},
   "outputs": [
    {
     "name": "stdout",
     "output_type": "stream",
     "text": [
      "3\n",
      "1\n",
      "2\n",
      "3\n",
      "1\n",
      "2\n",
      "1\n"
     ]
    }
   ],
   "source": [
    "subject = SubjectTree(2)\n",
    "subject.getValues([1,2,3])"
   ]
  },
  {
   "cell_type": "markdown",
   "metadata": {},
   "source": [
    "----"
   ]
  },
  {
   "cell_type": "code",
   "execution_count": 403,
   "metadata": {},
   "outputs": [],
   "source": [
    "class SubjectTree():\n",
    "    variable_counter = 0\n",
    "    constant_prob = [0.1, 0.9]\n",
    "    min_constant = -10\n",
    "    max_constant = 10\n",
    "    \n",
    "    def __init__(self, size, seed, index, operators, operators_prob, constant_prob=None, constant_limits=None):\n",
    "        SubjectTree.variable_counter = 0\n",
    "        self.seed = seed + index\n",
    "        \n",
    "        #Set probability of constants in terminal nodes\n",
    "        if constant_prob is not None:\n",
    "            SubjectTree.constant_prob = constant_prob\n",
    "        if constant_limits is not None:\n",
    "            SubjectTree.min_constant, SubjectTree.max_constant = constant_limits\n",
    "        #Create tree:\n",
    "        np.random.seed(self.seed)\n",
    "        self.root = Node(size, operators, operators_prob)\n",
    "        \n",
    "    \n",
    "    def printFunction(self, variable_values):\n",
    "        return self.root.printRecursion(variable_values)\n",
    "    \n",
    "    def evalFunction(self, variable_values):\n",
    "        return self.root.evalRecursion(variable_values)\n",
    "        \n",
    "\n",
    "class Node(SubjectTree):\n",
    "    def __init__(self, num_layer, operators, operators_prob):        \n",
    "\n",
    "        #Leaf\n",
    "        if num_layer <= 0:\n",
    "            self.node_type = 'terminal'\n",
    "            self.terminal_type = np.random.choice(\n",
    "                ['constant', 'variable'], \n",
    "                p=SubjectTree.constant_prob)\n",
    "            \n",
    "            #set terminal value\n",
    "            if self.terminal_type == 'variable':\n",
    "                #only sets the position\n",
    "                self.variable_number = SubjectTree.variable_counter\n",
    "                SubjectTree.variable_counter += 1\n",
    "            else:\n",
    "                self.variable_number = self._calculateConstant()\n",
    "            #Leaf properties:\n",
    "            self.node_funciton = None\n",
    "            self.left_node = None\n",
    "            self.right_node = None\n",
    "            \n",
    "        #InnerNode\n",
    "        else:\n",
    "            self.node_type = 'function'\n",
    "            self.node_funciton = np.random.choice(operators, p=operators_prob)\n",
    "            \n",
    "            #InnerNode properties:\n",
    "            self.terminal_type = None\n",
    "            self.variable_number = None\n",
    "            self.left_node = Node(num_layer - 1, operators, operators_prob)\n",
    "            self.right_node = Node(num_layer - 1, operators, operators_prob)\n",
    "\n",
    "    def printRecursion(self, variable_values, position=None):\n",
    "        #Call inner left nodes:\n",
    "        if self.left_node is not None:\n",
    "            self.left_node.printRecursion(variable_values, 'left')\n",
    "        #Print node content:\n",
    "        if self.node_type == 'function':\n",
    "            print(self.node_funciton, end =\" \")\n",
    "        elif self.node_type == 'terminal':\n",
    "            if self.terminal_type == 'variable':\n",
    "                variable_position = self.variable_number % len(variable_values)\n",
    "                \n",
    "                if position == 'left':\n",
    "                    print(\"(\", variable_values[variable_position], end=\" \")\n",
    "                else:\n",
    "                    print(variable_values[variable_position], \")\", end=\" \")\n",
    "            else: #constant\n",
    "                if position == 'left':\n",
    "                    print(\"(\", self.variable_number, end=\" \")\n",
    "                else:\n",
    "                    print(self.variable_number, \")\", end=\" \")\n",
    "        #Call inner right nodes\n",
    "        if self.right_node is not None:\n",
    "            self.right_node.printRecursion(variable_values, 'right')\n",
    "            \n",
    "        \n",
    "    def evalRecursion(self, variable_values):\n",
    "        if self.node_type == 'terminal':\n",
    "            if self.terminal_type == 'variable':\n",
    "                variable_position = self.variable_number % len(variable_values)\n",
    "                #print(\"variable: \", variable_values[variable_position])\n",
    "                return variable_values[variable_position]\n",
    "            else: #constant\n",
    "                #print(\"constant: \", self.variable_number)\n",
    "                return self.variable_number\n",
    "        elif self.node_type == 'function':\n",
    "            left_value = self.left_node.evalRecursion(variable_values)\n",
    "            right_value = self.right_node.evalRecursion(variable_values)\n",
    "            \n",
    "            print(\"   -> \", left_value, \" \", self.node_funciton, \"  \", right_value, \"  =\", end=\" \")\n",
    "    \n",
    "            if self.node_funciton == '+':\n",
    "                return left_value + right_value\n",
    "            elif self.node_funciton == '-':\n",
    "                return left_value - right_value\n",
    "            elif self.node_funciton == '*':\n",
    "                return left_value * right_value\n",
    "            elif self.node_funciton == '/':\n",
    "                if right_value == 0:\n",
    "                    return 0\n",
    "                else:\n",
    "                    return left_value / right_value\n",
    "            elif self.node_funciton == 'log':\n",
    "                return left_value * math.log(right_value)\n",
    "            elif self.node_funciton == 'sin':\n",
    "                print(left_value * math.sin(right_value))\n",
    "                return left_value * math.sin(right_value)\n",
    "            elif self.node_funciton == 'cos':\n",
    "                print(left_value * math.cos(right_value))\n",
    "                return left_value * math.cos(right_value)\n",
    "            elif self.node_funciton == 'sqrt':\n",
    "                return left_value * math.sqrt(right_value)\n",
    "            elif self.node_funciton == '^':\n",
    "                return left_value ** right_value\n",
    "            else:\n",
    "                raise 'evalRecursion invalid node_funciton'\n",
    "        else:\n",
    "            raise 'evalRecursion invalid node_type'\n",
    "        \n",
    "    def _calculateConstant(self):\n",
    "        return round(\n",
    "            np.random.uniform(\n",
    "                SubjectTree.min_constant,\n",
    "                SubjectTree.max_constant),\n",
    "            2)\n"
   ]
  },
  {
   "cell_type": "code",
   "execution_count": 404,
   "metadata": {},
   "outputs": [
    {
     "name": "stdout",
     "output_type": "stream",
     "text": [
      "( 1 sin 2 ) / ( 3 cos 1 )    ->  1   sin    2   = 0.9092974268256817\n",
      "   ->  3   cos    1   = 1.6209069176044193\n",
      "   ->  0.9092974268256817   /    1.6209069176044193   = 0.5609806565385976\n"
     ]
    }
   ],
   "source": [
    "subject = SubjectTree(\n",
    "    size=2,\n",
    "    seed=1,\n",
    "    index=2,\n",
    "    operators=entrada['functions'],\n",
    "    operators_prob=entrada['functions_prob'])\n",
    "subject.printFunction([1,2,3])\n",
    "print(subject.evalFunction([1,2,3]))\n"
   ]
  },
  {
   "cell_type": "code",
   "execution_count": 325,
   "metadata": {},
   "outputs": [
    {
     "name": "stdout",
     "output_type": "stream",
     "text": [
      "0\n",
      "2\n",
      "3\n",
      "cos\n",
      "6.95\n",
      "josé Maria "
     ]
    }
   ],
   "source": [
    "np.random.seed(0)\n",
    "print(np.random.choice([0,1,2,3]))\n",
    "print(np.random.choice([0,1,2,3], p=[0.1, 0.2, 0.3, 0.4]))\n",
    "print(np.random.choice([0,1,2,3], p=[0.1, 0.2, 0.3, 0.4]))\n",
    "print(np.random.choice(entrada['functions'], p=entrada['functions_prob']))\n",
    "\n",
    "print(round(np.random.uniform(-10, 10), 2))\n",
    "print(\"josé\", end =\" \")\n",
    "print(\"Maria\", end =\" \")"
=======
   "execution_count": 10,
   "metadata": {},
   "outputs": [
    {
     "data": {
      "text/plain": [
       "1.6666666666666667"
      ]
     },
     "execution_count": 10,
     "metadata": {},
     "output_type": "execute_result"
    }
   ],
   "source": [
    "10/6"
>>>>>>> a167f8fa95934a02e7960d7072fdedb69f2a2486
   ]
  }
 ],
 "metadata": {
  "kernelspec": {
   "display_name": "Python 3",
   "language": "python",
   "name": "python3"
  },
  "language_info": {
   "codemirror_mode": {
    "name": "ipython",
    "version": 3
   },
   "file_extension": ".py",
   "mimetype": "text/x-python",
   "name": "python",
   "nbconvert_exporter": "python",
   "pygments_lexer": "ipython3",
   "version": "3.7.0"
  }
 },
 "nbformat": 4,
 "nbformat_minor": 2
}
