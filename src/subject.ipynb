{
 "cells": [
  {
   "cell_type": "code",
   "execution_count": 1,
   "metadata": {},
   "outputs": [],
   "source": [
    "import math"
   ]
  },
  {
   "cell_type": "code",
   "execution_count": 4,
   "metadata": {},
   "outputs": [],
   "source": [
    "entrada = {\n",
    "    \"tamanho_populacao\" : 10,\n",
    "    \"ponto1\" : [1,2,3],\n",
    "    \"ponto2\" : [4,5,6],\n",
    "    \"prob_cruzamento\" : 0.7,\n",
    "    \"prob_mutacao\" : 0.3\n",
    "}"
   ]
  },
  {
   "cell_type": "code",
   "execution_count": 14,
   "metadata": {},
   "outputs": [
    {
     "name": "stdout",
     "output_type": "stream",
     "text": [
      "10 7\n"
     ]
    },
    {
     "data": {
      "text/plain": [
       "(1, 4)"
      ]
     },
     "execution_count": 14,
     "metadata": {},
     "output_type": "execute_result"
    }
   ],
   "source": [
    "def ramped_half_and_half(population_size, max_size):\n",
    "    \n",
    "    #Calculating number of subjects with which size of trees\n",
    "    trees_in_layers = int(population_size/(max_size - 1))\n",
    "    trees_rest = int(population_size%(max_size - 1) - 1)\n",
    "    trees_in_last_layer = trees_in_layers + trees_rest\n",
    "    \n",
    "    #Creating population\n",
    "    population = []\n",
    "    #for i in range(2, max_size):\n",
    "        \n",
    "    \n",
    "    return (trees_in_layers, trees_in_last_layer)\n",
    "\n",
    "class subject_tree():\n",
    "    \n",
    "    #index sum's on random seed so trees with same number\n",
    "    #of layers don't are iniceiated in the same way \n",
    "    def __init__(num_layers, random_seed, index)\n",
    "        self.num_layers = num_layers\n",
    "        self.random_seed = random_seed + index\n",
    "        self.root = node()\n",
    "        for i in range(num_layers):\n",
    "        \n",
    "    \n",
    "class node():\n",
    "    def \n",
    "    \n",
    "    \n",
    "\n",
    "ramped_half_and_half(entrada[\"tamanho_populacao\"], 7)"
   ]
  },
  {
   "cell_type": "code",
   "execution_count": 10,
   "metadata": {},
   "outputs": [
    {
     "data": {
      "text/plain": [
       "1.6666666666666667"
      ]
     },
     "execution_count": 10,
     "metadata": {},
     "output_type": "execute_result"
    }
   ],
   "source": [
    "10/6"
   ]
  }
 ],
 "metadata": {
  "kernelspec": {
   "display_name": "Python 3",
   "language": "python",
   "name": "python3"
  },
  "language_info": {
   "codemirror_mode": {
    "name": "ipython",
    "version": 3
   },
   "file_extension": ".py",
   "mimetype": "text/x-python",
   "name": "python",
   "nbconvert_exporter": "python",
   "pygments_lexer": "ipython3",
   "version": "3.7.0"
  }
 },
 "nbformat": 4,
 "nbformat_minor": 2
}
