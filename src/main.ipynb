{
 "cells": [
  {
   "cell_type": "code",
   "execution_count": 1,
   "metadata": {},
   "outputs": [],
   "source": [
    "import pandas as pd"
   ]
  },
  {
   "cell_type": "markdown",
   "metadata": {},
   "source": [
    "## Parâmetros"
   ]
  },
  {
   "cell_type": "code",
   "execution_count": 2,
   "metadata": {},
   "outputs": [],
   "source": [
    "parametros_cancer = {\n",
    "    'k' : 2,\n",
    "    'tamanho_individuo' : 7,\n",
    "    'populacao' : 30,\n",
    "    'crossOver' : 0.9,\n",
    "    'mutacao' : 0.05,\n",
    "    'torneiro' : 2\n",
    "}"
   ]
  },
  {
   "cell_type": "markdown",
   "metadata": {},
   "source": [
    "## Dados:"
   ]
  },
  {
   "cell_type": "markdown",
   "metadata": {},
   "source": [
    "* #### Leitura dos dados:"
   ]
  },
  {
   "cell_type": "code",
   "execution_count": 3,
   "metadata": {},
   "outputs": [],
   "source": [
    "df_cancer_train = pd.read_csv('breast_cancer_coimbra_train.csv')\n",
    "df_cancer_test = pd.read_csv('breast_cancer_coimbra_train.csv')"
   ]
  },
  {
   "cell_type": "markdown",
   "metadata": {},
   "source": [
    "* #### Entendendo os dados:"
   ]
  },
  {
   "cell_type": "code",
   "execution_count": 4,
   "metadata": {},
   "outputs": [
    {
     "data": {
      "text/html": [
       "<div>\n",
       "<style scoped>\n",
       "    .dataframe tbody tr th:only-of-type {\n",
       "        vertical-align: middle;\n",
       "    }\n",
       "\n",
       "    .dataframe tbody tr th {\n",
       "        vertical-align: top;\n",
       "    }\n",
       "\n",
       "    .dataframe thead th {\n",
       "        text-align: right;\n",
       "    }\n",
       "</style>\n",
       "<table border=\"1\" class=\"dataframe\">\n",
       "  <thead>\n",
       "    <tr style=\"text-align: right;\">\n",
       "      <th></th>\n",
       "      <th>Age</th>\n",
       "      <th>BMI</th>\n",
       "      <th>Glucose</th>\n",
       "      <th>Insulin</th>\n",
       "      <th>HOMA</th>\n",
       "      <th>Leptin</th>\n",
       "      <th>Adiponectin</th>\n",
       "      <th>Resistin</th>\n",
       "      <th>MCP.1</th>\n",
       "      <th>Classification</th>\n",
       "    </tr>\n",
       "  </thead>\n",
       "  <tbody>\n",
       "    <tr>\n",
       "      <th>0</th>\n",
       "      <td>44</td>\n",
       "      <td>20.760000</td>\n",
       "      <td>86</td>\n",
       "      <td>7.553</td>\n",
       "      <td>1.600000</td>\n",
       "      <td>14.0900</td>\n",
       "      <td>20.320000</td>\n",
       "      <td>7.64000</td>\n",
       "      <td>63.610</td>\n",
       "      <td>1</td>\n",
       "    </tr>\n",
       "    <tr>\n",
       "      <th>1</th>\n",
       "      <td>46</td>\n",
       "      <td>20.830000</td>\n",
       "      <td>88</td>\n",
       "      <td>3.420</td>\n",
       "      <td>0.742368</td>\n",
       "      <td>12.8700</td>\n",
       "      <td>18.550000</td>\n",
       "      <td>13.56000</td>\n",
       "      <td>301.210</td>\n",
       "      <td>2</td>\n",
       "    </tr>\n",
       "    <tr>\n",
       "      <th>2</th>\n",
       "      <td>53</td>\n",
       "      <td>36.790166</td>\n",
       "      <td>101</td>\n",
       "      <td>10.175</td>\n",
       "      <td>2.534932</td>\n",
       "      <td>27.1841</td>\n",
       "      <td>20.030000</td>\n",
       "      <td>10.26309</td>\n",
       "      <td>695.754</td>\n",
       "      <td>1</td>\n",
       "    </tr>\n",
       "    <tr>\n",
       "      <th>3</th>\n",
       "      <td>54</td>\n",
       "      <td>30.483158</td>\n",
       "      <td>90</td>\n",
       "      <td>5.537</td>\n",
       "      <td>1.229214</td>\n",
       "      <td>12.3310</td>\n",
       "      <td>9.731380</td>\n",
       "      <td>10.19299</td>\n",
       "      <td>1227.910</td>\n",
       "      <td>1</td>\n",
       "    </tr>\n",
       "    <tr>\n",
       "      <th>4</th>\n",
       "      <td>34</td>\n",
       "      <td>24.242424</td>\n",
       "      <td>92</td>\n",
       "      <td>21.699</td>\n",
       "      <td>4.924226</td>\n",
       "      <td>16.7353</td>\n",
       "      <td>21.823745</td>\n",
       "      <td>12.06534</td>\n",
       "      <td>481.949</td>\n",
       "      <td>2</td>\n",
       "    </tr>\n",
       "  </tbody>\n",
       "</table>\n",
       "</div>"
      ],
      "text/plain": [
       "   Age        BMI  Glucose  Insulin      HOMA   Leptin  Adiponectin  Resistin  \\\n",
       "0   44  20.760000       86    7.553  1.600000  14.0900    20.320000   7.64000   \n",
       "1   46  20.830000       88    3.420  0.742368  12.8700    18.550000  13.56000   \n",
       "2   53  36.790166      101   10.175  2.534932  27.1841    20.030000  10.26309   \n",
       "3   54  30.483158       90    5.537  1.229214  12.3310     9.731380  10.19299   \n",
       "4   34  24.242424       92   21.699  4.924226  16.7353    21.823745  12.06534   \n",
       "\n",
       "      MCP.1  Classification  \n",
       "0    63.610               1  \n",
       "1   301.210               2  \n",
       "2   695.754               1  \n",
       "3  1227.910               1  \n",
       "4   481.949               2  "
      ]
     },
     "execution_count": 4,
     "metadata": {},
     "output_type": "execute_result"
    }
   ],
   "source": [
    "df_cancer_train.head(5)"
   ]
  },
  {
   "cell_type": "code",
   "execution_count": 5,
   "metadata": {},
   "outputs": [
    {
     "name": "stdout",
     "output_type": "stream",
     "text": [
      "Treino: formato: (92, 10)     tamanho: 920\n",
      "\n",
      "Teste:  formato: (92, 10)     tamanho: 920\n"
     ]
    }
   ],
   "source": [
    "print(\"Treino: formato:\", df_cancer_train.shape, \"    tamanho:\", df_cancer_train.size)\n",
    "print(\"\\nTeste:  formato:\", df_cancer_test.shape, \"    tamanho:\", df_cancer_test.size)"
   ]
  },
  {
   "cell_type": "markdown",
   "metadata": {},
   "source": [
    "* #### Separando os dados:"
   ]
  },
  {
   "cell_type": "code",
   "execution_count": 6,
   "metadata": {},
   "outputs": [],
   "source": [
    "df_cancer_train_X = df_cancer_train.drop(['Classification'], axis=1)\n",
    "df_cancer_train_Y = df_cancer_train['Classification']\n",
    "\n",
    "df_cancer_test_X = df_cancer_test.drop(['Classification'], axis=1)\n",
    "df_cancer_test_Y = df_cancer_test['Classification']"
   ]
  },
  {
   "cell_type": "markdown",
   "metadata": {},
   "source": [
    "---"
   ]
  },
  {
   "cell_type": "code",
   "execution_count": 7,
   "metadata": {},
   "outputs": [
    {
     "data": {
      "text/plain": [
       "0     20.760000\n",
       "1     20.830000\n",
       "2     36.790166\n",
       "3     30.483158\n",
       "4     24.242424\n",
       "5     32.270788\n",
       "6     21.367521\n",
       "7     25.590000\n",
       "8     28.672626\n",
       "9     36.212279\n",
       "10    29.296875\n",
       "11    23.000000\n",
       "12    34.422174\n",
       "13    22.832879\n",
       "14    24.218750\n",
       "15    35.250761\n",
       "16    30.300000\n",
       "17    26.850000\n",
       "18    22.854458\n",
       "19    29.777778\n",
       "20    23.140496\n",
       "21    35.587929\n",
       "22    29.606767\n",
       "23    22.030000\n",
       "24    18.370000\n",
       "25    27.688778\n",
       "26    23.620000\n",
       "27    23.800000\n",
       "28    32.500000\n",
       "29    19.560000\n",
       "        ...    \n",
       "62    21.082813\n",
       "63    26.562500\n",
       "64    35.855815\n",
       "65    35.560000\n",
       "66    22.656250\n",
       "67    22.892820\n",
       "68    27.887617\n",
       "69    35.092702\n",
       "70    34.174890\n",
       "71    33.180000\n",
       "72    20.690495\n",
       "73    21.303949\n",
       "74    31.975015\n",
       "75    23.124670\n",
       "76    30.276817\n",
       "77    28.444444\n",
       "78    27.688778\n",
       "79    34.838148\n",
       "80    22.210000\n",
       "81    28.125000\n",
       "82    32.461911\n",
       "83    27.180000\n",
       "84    28.576676\n",
       "85    22.499637\n",
       "86    24.740000\n",
       "87    29.384757\n",
       "88    23.340000\n",
       "89    30.801249\n",
       "90    25.900000\n",
       "91    30.915577\n",
       "Name: BMI, Length: 92, dtype: float64"
      ]
     },
     "execution_count": 7,
     "metadata": {},
     "output_type": "execute_result"
    }
   ],
   "source": [
    "df_cancer_test_X.BMI"
   ]
  },
  {
   "cell_type": "code",
   "execution_count": 10,
   "metadata": {},
   "outputs": [
    {
     "data": {
      "text/plain": [
       "0     0.0\n",
       "1     0.0\n",
       "2     0.0\n",
       "3     1.0\n",
       "4     1.0\n",
       "5     1.0\n",
       "6     NaN\n",
       "7     NaN\n",
       "8     NaN\n",
       "9     NaN\n",
       "10    NaN\n",
       "11    NaN\n",
       "12    NaN\n",
       "13    NaN\n",
       "14    NaN\n",
       "15    NaN\n",
       "16    NaN\n",
       "17    NaN\n",
       "18    NaN\n",
       "19    NaN\n",
       "20    NaN\n",
       "21    NaN\n",
       "22    NaN\n",
       "23    NaN\n",
       "24    NaN\n",
       "25    NaN\n",
       "26    NaN\n",
       "27    NaN\n",
       "28    NaN\n",
       "29    NaN\n",
       "     ... \n",
       "62    NaN\n",
       "63    NaN\n",
       "64    NaN\n",
       "65    NaN\n",
       "66    NaN\n",
       "67    NaN\n",
       "68    NaN\n",
       "69    NaN\n",
       "70    NaN\n",
       "71    NaN\n",
       "72    NaN\n",
       "73    NaN\n",
       "74    NaN\n",
       "75    NaN\n",
       "76    NaN\n",
       "77    NaN\n",
       "78    NaN\n",
       "79    NaN\n",
       "80    NaN\n",
       "81    NaN\n",
       "82    NaN\n",
       "83    NaN\n",
       "84    NaN\n",
       "85    NaN\n",
       "86    NaN\n",
       "87    NaN\n",
       "88    NaN\n",
       "89    NaN\n",
       "90    NaN\n",
       "91    NaN\n",
       "Name: y_pred, Length: 92, dtype: float64"
      ]
     },
     "execution_count": 10,
     "metadata": {},
     "output_type": "execute_result"
    }
   ],
   "source": [
    "df_cancer_test_X.loc[[0,1,2], 'y_pred'] = 0\n",
    "df_cancer_test_X.loc[[3,4,5], 'y_pred'] = 1\n",
    "df_cancer_test_X.y_pred"
   ]
  }
 ],
 "metadata": {
  "kernelspec": {
   "display_name": "Python 3",
   "language": "python",
   "name": "python3"
  },
  "language_info": {
   "codemirror_mode": {
    "name": "ipython",
    "version": 3
   },
   "file_extension": ".py",
   "mimetype": "text/x-python",
   "name": "python",
   "nbconvert_exporter": "python",
   "pygments_lexer": "ipython3",
   "version": "3.7.0"
  }
 },
 "nbformat": 4,
 "nbformat_minor": 2
}
